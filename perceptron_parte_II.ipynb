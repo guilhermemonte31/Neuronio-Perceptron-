{
 "cells": [
  {
   "cell_type": "markdown",
   "id": "2479ba2e",
   "metadata": {},
   "source": [
    "|Alunos                |Matrícula  |\n",
    "|----------------------|-----------|\n",
    "|Caio Bertoldo         |2215080050 |\n",
    "|Danilo Jorge          |2215080007 |\n",
    "|Diogo Gomes           |2215080033 |\n",
    "|Guilherme Montenegro  |2215080011 |\n",
    "|Leonardo Abinader     |2215080042 |"
   ]
  },
  {
   "cell_type": "code",
   "execution_count": 37,
   "id": "a0008754",
   "metadata": {},
   "outputs": [],
   "source": [
    "import numpy as np\n",
    "from prettytable import PrettyTable, TableStyle"
   ]
  },
  {
   "cell_type": "code",
   "execution_count": 38,
   "id": "f79ae7aa",
   "metadata": {},
   "outputs": [
    {
     "name": "stdout",
     "output_type": "stream",
     "text": [
      "Identificador para escolha de arquivo: 1\n"
     ]
    }
   ],
   "source": [
    "# Verificando qual .txt usar\n",
    "n = (0 + 7 + 3 + 1 + 2) % 4\n",
    "print(f\"Identificador para escolha de arquivo: {n}\")"
   ]
  },
  {
   "cell_type": "markdown",
   "id": "cf8204e1",
   "metadata": {},
   "source": [
    "### Verificando os dados"
   ]
  },
  {
   "cell_type": "code",
   "execution_count": 39,
   "id": "15bcc5d0",
   "metadata": {},
   "outputs": [],
   "source": [
    "dados = np.fromfile('rna-2025.1-pp2.1-dados/data1.txt')\n"
   ]
  },
  {
   "cell_type": "code",
   "execution_count": 40,
   "id": "eef7bf5c",
   "metadata": {},
   "outputs": [],
   "source": [
    "m = dados.size//3\n",
    "dados = dados.reshape((m,1,3))"
   ]
  },
  {
   "cell_type": "code",
   "execution_count": 41,
   "id": "8f290386",
   "metadata": {},
   "outputs": [],
   "source": [
    "X = np.array([[linha[0][0], linha[0][1]] for linha in dados])\n",
    "y = np.array([[linha[0][2]] for linha in dados]).ravel()"
   ]
  },
  {
   "cell_type": "markdown",
   "id": "852e3ca0",
   "metadata": {},
   "source": [
    "### Perceptron"
   ]
  },
  {
   "cell_type": "code",
   "execution_count": 42,
   "id": "33e382a3",
   "metadata": {},
   "outputs": [],
   "source": [
    "class Perceptron:\n",
    "    def __init__(self, learning_rate=0.1, epochs=100, weights=None):\n",
    "        self.learning_rate = learning_rate\n",
    "        self.epochs = epochs\n",
    "        self.weights = weights\n",
    "        self.bias = None\n",
    "        self.necessary_epochs = None\n",
    "        self.total_adjust = 0\n",
    "    \n",
    "    def step(self, x):\n",
    "        return 1 if x >= 0 else 0\n",
    "\n",
    "    def check_error(self, y_predicted, y):\n",
    "        return  y_predicted != y\n",
    "\n",
    "    def fit(self, X, y):\n",
    "        if self.weights is None:\n",
    "            self.weights = np.random.uniform(low=-0.5, high=0.5, size=2)\n",
    "        self.bias = 0\n",
    "        self.necessary_epochs = 0\n",
    "        \n",
    "\n",
    "        for _ in range(self.epochs):\n",
    "            self.necessary_epochs +=1\n",
    "            error_counter = 0\n",
    "            for idx, x_i in enumerate(X):\n",
    "                linear_output = np.dot(x_i, self.weights) + self.bias\n",
    "                y_predicted = self.step(linear_output)\n",
    "                if(self.check_error(y_predicted, y[idx])):\n",
    "                    \n",
    "                    update = self.learning_rate * (y[idx] - y_predicted)\n",
    "                    self.weights += update * x_i\n",
    "                    self.bias += update\n",
    "                    error_counter +=1\n",
    "                    self.total_adjust+=1\n",
    "                else:\n",
    "                    pass\n",
    "            if error_counter == 0:\n",
    "                return\n",
    "\n",
    "    def predict(self, X):\n",
    "        return np.array([self.step(np.dot(X[i], self.weights) + self.bias) for i in range(X.shape[0])])\n"
   ]
  },
  {
   "cell_type": "markdown",
   "id": "84349e88",
   "metadata": {},
   "source": [
    "### Testes"
   ]
  },
  {
   "cell_type": "code",
   "execution_count": 43,
   "id": "c887f3ed",
   "metadata": {},
   "outputs": [],
   "source": [
    "# eta e intervalos\n",
    "eta1 = 0.4\n",
    "eta2 = 0.1\n",
    "eta3 = 0.01\n",
    "i1 = [-0.5, 0.5]\n",
    "i2 = [-100, 100]"
   ]
  },
  {
   "cell_type": "code",
   "execution_count": 44,
   "id": "af4b8f33",
   "metadata": {},
   "outputs": [],
   "source": [
    "# Função para realizar as 10 execuções com as 6 configurações\n",
    "def test(eta, i):\n",
    "    min_epochs = float('inf')\n",
    "    list_total_adjust = []\n",
    "\n",
    "    for _ in range(10):\n",
    "        perceptron = Perceptron(learning_rate=eta, weights=np.random.uniform(low=i[0], high=i[1], size=2))\n",
    "        perceptron.fit(X, y)\n",
    "        list_total_adjust.append(perceptron.total_adjust)\n",
    "        min_epochs = min(min_epochs, perceptron.necessary_epochs)\n",
    "\n",
    "    mean = np.mean(list_total_adjust) \n",
    "    std = np.std(list_total_adjust)\n",
    "\n",
    "    return min_epochs, mean, std"
   ]
  },
  {
   "cell_type": "code",
   "execution_count": 45,
   "id": "473e39b3",
   "metadata": {},
   "outputs": [
    {
     "name": "stdout",
     "output_type": "stream",
     "text": [
      "Mínimo de épocas necessárias: 2\n",
      "Média do total de ajustes: 37.0\n",
      "Desvio padrão do total de ajustes: 16.11831256676703\n"
     ]
    }
   ],
   "source": [
    "# eta = 0.4 e intervalo [-0.5, 0.5]\n",
    "min_epochs1, mean1, std1 = test(eta1, i1)\n",
    "print(f\"Mínimo de épocas necessárias: {min_epochs1}\")\n",
    "print(f\"Média do total de ajustes: {mean1}\")\n",
    "print(f\"Desvio padrão do total de ajustes: {std1}\")"
   ]
  },
  {
   "cell_type": "code",
   "execution_count": 46,
   "id": "e237cc0b",
   "metadata": {},
   "outputs": [
    {
     "name": "stdout",
     "output_type": "stream",
     "text": [
      "Mínimo de épocas necessárias: 4\n",
      "Média do total de ajustes: 411.6\n",
      "Desvio padrão do total de ajustes: 156.21664443970113\n"
     ]
    }
   ],
   "source": [
    "# eta = 0.4 e intervalo [-100, 100]\n",
    "min_epochs2, mean2, std2 = test(eta1, i2)\n",
    "print(f\"Mínimo de épocas necessárias: {min_epochs2}\")\n",
    "print(f\"Média do total de ajustes: {mean2}\")\n",
    "print(f\"Desvio padrão do total de ajustes: {std2}\")"
   ]
  },
  {
   "cell_type": "code",
   "execution_count": 47,
   "id": "06df17b9",
   "metadata": {},
   "outputs": [
    {
     "name": "stdout",
     "output_type": "stream",
     "text": [
      "Mínimo de épocas necessárias: 4\n",
      "Média do total de ajustes: 34.8\n",
      "Desvio padrão do total de ajustes: 16.527552752903254\n"
     ]
    }
   ],
   "source": [
    "# eta = 0.1 e intervalo [-0.5, 0.5]\n",
    "min_epochs3, mean3, std3 = test(eta2, i1)\n",
    "print(f\"Mínimo de épocas necessárias: {min_epochs3}\")\n",
    "print(f\"Média do total de ajustes: {mean3}\")\n",
    "print(f\"Desvio padrão do total de ajustes: {std3}\")"
   ]
  },
  {
   "cell_type": "code",
   "execution_count": 48,
   "id": "33715d90",
   "metadata": {},
   "outputs": [
    {
     "name": "stdout",
     "output_type": "stream",
     "text": [
      "Mínimo de épocas necessárias: 12\n",
      "Média do total de ajustes: 1667.8\n",
      "Desvio padrão do total de ajustes: 586.9675970613711\n"
     ]
    }
   ],
   "source": [
    "# eta = 0.1 e intervalo [-100, 100]\n",
    "min_epochs4, mean4, std4 = test(eta2, i2)\n",
    "print(f\"Mínimo de épocas necessárias: {min_epochs4}\")\n",
    "print(f\"Média do total de ajustes: {mean4}\")\n",
    "print(f\"Desvio padrão do total de ajustes: {std4}\")"
   ]
  },
  {
   "cell_type": "code",
   "execution_count": 49,
   "id": "d79a60d0",
   "metadata": {},
   "outputs": [
    {
     "name": "stdout",
     "output_type": "stream",
     "text": [
      "Mínimo de épocas necessárias: 5\n",
      "Média do total de ajustes: 73.9\n",
      "Desvio padrão do total de ajustes: 31.988904326344162\n"
     ]
    }
   ],
   "source": [
    "# eta = 0.01 e intervalo [-0.5, 0.5]\n",
    "min_epochs5, mean5, std5 = test(eta3, i1)\n",
    "print(f\"Mínimo de épocas necessárias: {min_epochs5}\")\n",
    "print(f\"Média do total de ajustes: {mean5}\")\n",
    "print(f\"Desvio padrão do total de ajustes: {std5}\")"
   ]
  },
  {
   "cell_type": "code",
   "execution_count": 50,
   "id": "af260a77",
   "metadata": {},
   "outputs": [
    {
     "name": "stdout",
     "output_type": "stream",
     "text": [
      "Mínimo de épocas necessárias: 25\n",
      "Média do total de ajustes: 9076.5\n",
      "Desvio padrão do total de ajustes: 6101.243418353344\n"
     ]
    }
   ],
   "source": [
    "# eta = 0.01 e intervalo [-100, 100]\n",
    "min_epochs6, mean6, std6 = test(eta3, i2)\n",
    "print(f\"Mínimo de épocas necessárias: {min_epochs6}\")\n",
    "print(f\"Média do total de ajustes: {mean6}\")\n",
    "print(f\"Desvio padrão do total de ajustes: {std6}\")"
   ]
  },
  {
   "cell_type": "markdown",
   "id": "5d4754c1",
   "metadata": {},
   "source": [
    "##### Tabela de resultados:"
   ]
  },
  {
   "cell_type": "code",
   "execution_count": 51,
   "id": "db4fdf0e",
   "metadata": {},
   "outputs": [
    {
     "name": "stdout",
     "output_type": "stream",
     "text": [
      "+---------------------+--------------------+-----------------------+------------------------------------------+\n",
      "  Taxa de Aprendizado   Intervalo de Pesos   Quantidade de Ajustes   Menor Número de Épocas para Convergência  \n",
      "+---------------------+--------------------+-----------------------+------------------------------------------+\n",
      "          0.4              [-0.5, 0.5]            37.0 +- 16.1                          2                      \n",
      "          0.4              [-100, 100]           411.6 +- 156.2                         4                      \n",
      "          0.1              [-0.5, 0.5]            34.8 +- 16.5                          4                      \n",
      "          0.1              [-100, 100]          1667.8 +- 587.0                         12                     \n",
      "          0.01             [-0.5, 0.5]            73.9 +- 32.0                          5                      \n",
      "          0.01             [-100, 100]          9076.5 +- 6101.2                        25                     \n",
      "+---------------------+--------------------+-----------------------+------------------------------------------+\n"
     ]
    }
   ],
   "source": [
    "table = PrettyTable()\n",
    "\n",
    "# table.set_style(TableStyle.MARKDOWN)\n",
    "table.vertical_char = \" \"\n",
    "\n",
    "table.field_names = [\"Taxa de Aprendizado\", \"Intervalo de Pesos\", \"Quantidade de Ajustes\", \"Menor Número de Épocas para Convergência\"]\n",
    "\n",
    "table.add_row([eta1, i1, f\"{mean1} +- {std1:.1f}\", min_epochs1])\n",
    "table.add_row([eta1, i2, f\"{mean2} +- {std2:.1f}\", min_epochs2])\n",
    "table.add_row([eta2, i1, f\"{mean3} +- {std3:.1f}\", min_epochs3])\n",
    "table.add_row([eta2, i2, f\"{mean4} +- {std4:.1f}\", min_epochs4])\n",
    "table.add_row([eta3, i1, f\"{mean5} +- {std5:.1f}\", min_epochs5])\n",
    "table.add_row([eta3, i2, f\"{mean6} +- {std6:.1f}\", min_epochs6])\n",
    "\n",
    "print(table)"
   ]
  }
 ],
 "metadata": {
  "kernelspec": {
   "display_name": "env_test",
   "language": "python",
   "name": "python3"
  },
  "language_info": {
   "codemirror_mode": {
    "name": "ipython",
    "version": 3
   },
   "file_extension": ".py",
   "mimetype": "text/x-python",
   "name": "python",
   "nbconvert_exporter": "python",
   "pygments_lexer": "ipython3",
   "version": "3.13.2"
  }
 },
 "nbformat": 4,
 "nbformat_minor": 5
}
